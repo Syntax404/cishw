{
 "cells": [
  {
   "cell_type": "code",
   "execution_count": 3,
   "metadata": {},
   "outputs": [
    {
     "name": "stderr",
     "output_type": "stream",
     "text": [
      "Python 2.7.14 :: Anaconda, Inc.\n"
     ]
    }
   ],
   "source": [
    "!python --version"
   ]
  },
  {
   "cell_type": "code",
   "execution_count": null,
   "metadata": {
    "collapsed": true
   },
   "outputs": [],
   "source": []
  },
  {
   "cell_type": "code",
   "execution_count": 25,
   "metadata": {},
   "outputs": [
    {
     "name": "stdout",
     "output_type": "stream",
     "text": [
      "Enter a number: 25\n"
     ]
    }
   ],
   "source": [
    "#ex 1\n",
    "num1 = int(raw_input('Enter a number: '))\n",
    "\n",
    "if num1 > 100:\n",
    "    print ('Found a number greater than 100')"
   ]
  },
  {
   "cell_type": "code",
   "execution_count": 5,
   "metadata": {},
   "outputs": [
    {
     "name": "stdout",
     "output_type": "stream",
     "text": [
      "Enter your name Joe\n",
      "User Joe was entered\n"
     ]
    }
   ],
   "source": [
    "#ex 2\n",
    "name = (raw_input('Enter your name '))\n",
    "if name == 'Joe':\n",
    "    print('User Joe was entered')\n",
    "else:\n",
    "    print('User Joe was not entered')"
   ]
  },
  {
   "cell_type": "code",
   "execution_count": null,
   "metadata": {
    "collapsed": true
   },
   "outputs": [],
   "source": [
    "#ex3"
   ]
  },
  {
   "cell_type": "code",
   "execution_count": 8,
   "metadata": {},
   "outputs": [
    {
     "name": "stdout",
     "output_type": "stream",
     "text": [
      "Enter your salary: 562000000251\n",
      "User salary is less than 70,000\n"
     ]
    }
   ],
   "source": [
    "\n",
    "# having trouble figuring how to  say what i want it to say\n",
    "\n",
    "sal1 = int(raw_input('Enter your salary: '))\n",
    "if sal1 <'70000':\n",
    "    print('User salary is less than 70,000')\n",
    "elif sal1 <'100000':\n",
    "    print('User salary is less than 100,000')\n"
   ]
  },
  {
   "cell_type": "code",
   "execution_count": null,
   "metadata": {
    "collapsed": true
   },
   "outputs": [],
   "source": []
  },
  {
   "cell_type": "code",
   "execution_count": 15,
   "metadata": {},
   "outputs": [
    {
     "name": "stdout",
     "output_type": "stream",
     "text": [
      "enter the beginging number5\n",
      "enter the ending number10\n",
      "total is:  1\n",
      "total is:  2\n",
      "total is:  3\n",
      "total is:  4\n",
      "total is:  5\n"
     ]
    }
   ],
   "source": [
    "#ex 4\n",
    "# for loop\n",
    "\n",
    "numbSum = 0\n",
    "\n",
    "beginning_number = int(raw_input('enter the beginging number'))\n",
    "ending_number = int(raw_input('enter the ending number'))\n",
    "\n",
    "for number in range(beginning_number,ending_number):\n",
    "    numbSum = numbSum + 1\n",
    "\n",
    "    print \"total is: \",numbSum\n"
   ]
  },
  {
   "cell_type": "code",
   "execution_count": null,
   "metadata": {
    "collapsed": true
   },
   "outputs": [],
   "source": []
  },
  {
   "cell_type": "code",
   "execution_count": 3,
   "metadata": {},
   "outputs": [
    {
     "name": "stdout",
     "output_type": "stream",
     "text": [
      "Guess a number 25\n",
      "Guess a number 26\n",
      "Guess a number 7\n",
      "Guess a number 27\n"
     ]
    }
   ],
   "source": [
    "#ex 5 \n",
    "# while loop\n",
    "\n",
    "# review needed\n",
    "\n",
    "myNumber = 27\n",
    "\n",
    "userNumber = None\n",
    "\n",
    "while userNumber != myNumber:\n",
    "    userNumber =int(raw_input('Guess a number '))"
   ]
  },
  {
   "cell_type": "code",
   "execution_count": null,
   "metadata": {
    "collapsed": true
   },
   "outputs": [],
   "source": []
  },
  {
   "cell_type": "code",
   "execution_count": null,
   "metadata": {
    "collapsed": true
   },
   "outputs": [],
   "source": []
  }
 ],
 "metadata": {
  "kernelspec": {
   "display_name": "Python 2",
   "language": "python",
   "name": "python2"
  },
  "language_info": {
   "codemirror_mode": {
    "name": "ipython",
    "version": 2
   },
   "file_extension": ".py",
   "mimetype": "text/x-python",
   "name": "python",
   "nbconvert_exporter": "python",
   "pygments_lexer": "ipython2",
   "version": "2.7.14"
  }
 },
 "nbformat": 4,
 "nbformat_minor": 2
}
