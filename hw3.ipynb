{
 "cells": [
  {
   "cell_type": "code",
   "execution_count": 2,
   "metadata": {},
   "outputs": [
    {
     "name": "stderr",
     "output_type": "stream",
     "text": [
      "Python 2.7.14 :: Anaconda, Inc.\n"
     ]
    }
   ],
   "source": [
    "!python --version"
   ]
  },
  {
   "cell_type": "code",
   "execution_count": null,
   "metadata": {
    "collapsed": true
   },
   "outputs": [],
   "source": [
    "#ex1"
   ]
  },
  {
   "cell_type": "code",
   "execution_count": 3,
   "metadata": {},
   "outputs": [
    {
     "name": "stdout",
     "output_type": "stream",
     "text": [
      "Harry, please enter your age: 18\n",
      "Sally, please enter your age: 31\n",
      "Mary, please enter your age: 18\n",
      "Either Sally or Mary is older than 30 \n"
     ]
    }
   ],
   "source": [
    "hAge = int(raw_input('Harry, please enter your age: '))\n",
    "sAge = int(raw_input('Sally, please enter your age: '))\n",
    "mAge = int(raw_input('Mary, please enter your age: '))\n",
    "\n",
    "if hAge < 20 and sAge < 20:\n",
    "    print('Harry and Sally are less than 20 years old ')\n",
    "if sAge > 30 or mAge > 30:\n",
    "    print('Either Sally or Mary is older than 30 ')\n",
    "\n"
   ]
  },
  {
   "cell_type": "code",
   "execution_count": null,
   "metadata": {
    "collapsed": true
   },
   "outputs": [],
   "source": [
    "#ex2"
   ]
  },
  {
   "cell_type": "code",
   "execution_count": 95,
   "metadata": {},
   "outputs": [
    {
     "name": "stdout",
     "output_type": "stream",
     "text": [
      "User please enter your name: jackson\n",
      "7\n",
      "[0, 1, 2, 3, 4, 5, 6]\n"
     ]
    }
   ],
   "source": [
    "name = str(raw_input('User please enter your name: '))\n",
    "print(len(name))\n",
    "#put range in also just in case, please do not dock me points for it\n",
    "print(range(len(name)))\n"
   ]
  },
  {
   "cell_type": "code",
   "execution_count": 94,
   "metadata": {
    "collapsed": true
   },
   "outputs": [],
   "source": [
    "#ex3"
   ]
  },
  {
   "cell_type": "code",
   "execution_count": 24,
   "metadata": {},
   "outputs": [
    {
     "name": "stdout",
     "output_type": "stream",
     "text": [
      "User what is your favorite movie?: twilight\n",
      "thgiliwt\n"
     ]
    }
   ],
   "source": [
    "mName = str(raw_input('User what is your favorite movie?: '))\n",
    "rVerse = mName[::-1]\n",
    "print (rVerse)"
   ]
  },
  {
   "cell_type": "code",
   "execution_count": null,
   "metadata": {
    "collapsed": true
   },
   "outputs": [],
   "source": [
    "#ex4"
   ]
  },
  {
   "cell_type": "code",
   "execution_count": 16,
   "metadata": {},
   "outputs": [
    {
     "name": "stdout",
     "output_type": "stream",
     "text": [
      "Please enter your favorite phrase with proper punctuation please: Hello Mac and CHeese\n",
      "hello mac and cheese\n"
     ]
    }
   ],
   "source": [
    "userInput= raw_input('Please enter your favorite phrase with proper punctuation please: ')\n",
    "print userInput.lower() \n",
    "my_list = userInput\n",
    "for item in my_list:\n",
    "    if 'and' == item.lower():\n",
    "        print item.lower()"
   ]
  },
  {
   "cell_type": "code",
   "execution_count": 25,
   "metadata": {
    "collapsed": true
   },
   "outputs": [],
   "source": [
    "#ex5"
   ]
  },
  {
   "cell_type": "code",
   "execution_count": 20,
   "metadata": {},
   "outputs": [
    {
     "name": "stdout",
     "output_type": "stream",
     "text": [
      "User please enter your gorcery listmilk,bananas,sugar,eggs,cheese\n",
      "['milk', 'bananas', 'sugar', 'eggs', 'cheese']\n"
     ]
    }
   ],
   "source": [
    "my_string = raw_input('User please enter your gorcery list')\n",
    "my_list = my_string.split(',')\n",
    "print my_list"
   ]
  },
  {
   "cell_type": "code",
   "execution_count": null,
   "metadata": {
    "collapsed": true
   },
   "outputs": [],
   "source": []
  }
 ],
 "metadata": {
  "kernelspec": {
   "display_name": "Python 2",
   "language": "python",
   "name": "python2"
  },
  "language_info": {
   "codemirror_mode": {
    "name": "ipython",
    "version": 2
   },
   "file_extension": ".py",
   "mimetype": "text/x-python",
   "name": "python",
   "nbconvert_exporter": "python",
   "pygments_lexer": "ipython2",
   "version": "2.7.14"
  }
 },
 "nbformat": 4,
 "nbformat_minor": 2
}
